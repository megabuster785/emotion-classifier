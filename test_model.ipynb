{
 "cells": [
  {
   "cell_type": "code",
   "execution_count": 48,
   "id": "8251268a",
   "metadata": {},
   "outputs": [
    {
     "name": "stdout",
     "output_type": "stream",
     "text": [
      "1/1 [==============================] - 0s 185ms/step\n",
      "\n",
      "Predicted Emotion: NEUTRAL (ID: 1)\n",
      "\n",
      "Class Probabilities:\n",
      "Class 0: Emotion ID 5 →      angry → 0.04%\n",
      "Class 1: Emotion ID 2 →       calm → 0.84%\n",
      "Class 2: Emotion ID 7 →    disgust → 0.06%\n",
      "Class 3: Emotion ID 6 →    fearful → 4.60%\n",
      "Class 4: Emotion ID 3 →      happy → 3.99%\n",
      "Class 5: Emotion ID 1 →    neutral → 77.60%\n",
      "Class 6: Emotion ID 4 →        sad → 12.84%\n",
      "Class 7: Emotion ID 8 →  surprised → 0.04%\n"
     ]
    },
    {
     "data": {
      "image/png": "[encoded data removed]",
      "text/plain": [
       "<Figure size 1000x400 with 2 Axes>"
      ]
     },
     "metadata": {},
     "output_type": "display_data"
    }
   ],
   "source": [
    "import numpy as np\n",
    "import librosa\n",
    "import joblib\n",
    "from tensorflow.keras.models import load_model\n",
    "import matplotlib.pyplot as plt\n",
    "import librosa.display\n",
    "import warnings\n",
    "warnings.filterwarnings(\"ignore\")\n",
    "\n",
    "\n",
    "SAMPLE_RATE = 22050\n",
    "DURATION = 3\n",
    "MAX_PAD_LEN = 130\n",
    "N_MFCC = 40\n",
    "MODEL_PATH = \"cnn_emotion_model.h5\"\n",
    "ENCODER_PATH = \"label_encoder.pkl\"\n",
    "\n",
    "# Emotion ID to Label\n",
    "emotion_map = {\n",
    "    1: \"neutral\", 2: \"calm\", 3: \"happy\", 4: \"sad\",\n",
    "    5: \"angry\", 6: \"fearful\", 7: \"disgust\", 8: \"surprised\"\n",
    "}\n",
    "\n",
    "# Get index → (ID, label) mapping from encoder\n",
    "def get_index_to_emotion(le):\n",
    "    label_to_id = {v: k for k, v in emotion_map.items()}\n",
    "    index_to_label = {i: label for i, label in enumerate(le.classes_)}\n",
    "    return {\n",
    "        i: (label_to_id[label], label)\n",
    "        for i, label in index_to_label.items()\n",
    "    }\n",
    "# Load trained model and encoder\n",
    "model = load_model(MODEL_PATH)\n",
    "le = joblib.load(ENCODER_PATH)\n",
    "index_to_emotion = get_index_to_emotion(le)\n",
    "def extract_mfcc_for_test(file_path, sr=SAMPLE_RATE, duration=DURATION, max_pad_len=MAX_PAD_LEN):\n",
    "    y, sr = librosa.load(file_path, sr=sr, duration=duration)\n",
    "    mfcc = librosa.feature.mfcc(y=y, sr=sr, n_mfcc=N_MFCC)\n",
    "    mfcc_norm = mfcc / np.max(np.abs(mfcc)) \n",
    "\n",
    "    if mfcc_norm.shape[1] < max_pad_len:\n",
    "        pad_width = max_pad_len - mfcc_norm.shape[1]\n",
    "        mfcc_norm = np.pad(mfcc_norm, pad_width=((0, 0), (0, pad_width)), mode='constant')\n",
    "    else:\n",
    "        mfcc_norm = mfcc_norm[:, :max_pad_len]\n",
    "\n",
    "    return mfcc_norm\n",
    "def predict_emotion(audio_path):\n",
    "    mfcc_norm = extract_mfcc_for_test(audio_path)\n",
    "    input_tensor = np.expand_dims(mfcc_norm, axis=-1)  \n",
    "    input_tensor = np.expand_dims(input_tensor, axis=0)  \n",
    "\n",
    "    prediction = model.predict(input_tensor)[0]\n",
    "    predicted_index = np.argmax(prediction)\n",
    "    emotion_id, emotion_name = index_to_emotion[predicted_index]\n",
    "\n",
    "    print(f\"\\nPredicted Emotion: {emotion_name.upper()} (ID: {emotion_id})\")\n",
    "    print(\"\\nClass Probabilities:\")\n",
    "    for i, prob in enumerate(prediction):\n",
    "        eid, label = index_to_emotion[i]\n",
    "        print(f\"Class {i}: Emotion ID {eid} → {label:>10} → {prob*100:.2f}%\")\n",
    "\n",
    "    # Plot MFCC heatmap\n",
    "    plt.figure(figsize=(10, 4))\n",
    "    librosa.display.specshow(mfcc, x_axis='time')\n",
    "    plt.colorbar()\n",
    "    plt.title('MFCC')\n",
    "    plt.tight_layout()\n",
    "    plt.show()\n",
    "\n",
    "test_file = \"../data/Audio_Speech_Actors_01_24/Actor_01/03-01-01-01-01-01-01.wav\"\n",
    "predict_emotion(test_file)\n"
   ]
  },
  {
   "cell_type": "code",
   "execution_count": null,
   "id": "fd8769d4",
   "metadata": {},
   "outputs": [],
   "source": [
    "\n",
    "\n"
   ]
  },
  {
   "cell_type": "code",
   "execution_count": null,
   "id": "4324fc27",
   "metadata": {},
   "outputs": [],
   "source": []
  },
  {
   "cell_type": "code",
   "execution_count": null,
   "id": "21b6ed9a",
   "metadata": {},
   "outputs": [],
   "source": []
  },
  {
   "cell_type": "code",
   "execution_count": null,
   "id": "9bf2f8cf",
   "metadata": {},
   "outputs": [],
   "source": []
  }
 ],
 "metadata": {
  "kernelspec": {
   "display_name": "Python 3 (ipykernel)",
   "language": "python",
   "name": "python3"
  },
  "language_info": {
   "codemirror_mode": {
    "name": "ipython",
    "version": 3
   },
   "file_extension": ".py",
   "mimetype": "text/x-python",
   "name": "python",
   "nbconvert_exporter": "python",
   "pygments_lexer": "ipython3",
   "version": "3.11.4"
  }
 },
 "nbformat": 4,
 "nbformat_minor": 5
}
